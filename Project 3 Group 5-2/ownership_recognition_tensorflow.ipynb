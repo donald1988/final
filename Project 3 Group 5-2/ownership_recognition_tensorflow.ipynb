{
 "cells": [
  {
   "cell_type": "code",
   "execution_count": 1,
   "metadata": {
    "slideshow": {
     "slide_type": "subslide"
    }
   },
   "outputs": [],
   "source": [
    "# Dependencies\n",
    "import numpy as np\n",
    "import pandas as pd"
   ]
  },
  {
   "cell_type": "code",
   "execution_count": 2,
   "metadata": {},
   "outputs": [
    {
     "data": {
      "text/plain": [
       "'2.2.4-tf'"
      ]
     },
     "execution_count": 2,
     "metadata": {},
     "output_type": "execute_result"
    }
   ],
   "source": [
    "import tensorflow\n",
    "tensorflow.keras.__version__"
   ]
  },
  {
   "cell_type": "code",
   "execution_count": 3,
   "metadata": {
    "slideshow": {
     "slide_type": "fragment"
    }
   },
   "outputs": [
    {
     "data": {
      "text/html": [
       "<div>\n",
       "<style scoped>\n",
       "    .dataframe tbody tr th:only-of-type {\n",
       "        vertical-align: middle;\n",
       "    }\n",
       "\n",
       "    .dataframe tbody tr th {\n",
       "        vertical-align: top;\n",
       "    }\n",
       "\n",
       "    .dataframe thead th {\n",
       "        text-align: right;\n",
       "    }\n",
       "</style>\n",
       "<table border=\"1\" class=\"dataframe\">\n",
       "  <thead>\n",
       "    <tr style=\"text-align: right;\">\n",
       "      <th></th>\n",
       "      <th>company</th>\n",
       "      <th>ownership</th>\n",
       "      <th>year</th>\n",
       "      <th>valuations</th>\n",
       "      <th>eeo_1 status</th>\n",
       "      <th>sum(female)</th>\n",
       "      <th>sum(male)</th>\n",
       "      <th>sum(American_Indian_Alaskan_Native)</th>\n",
       "      <th>sum(Asian)</th>\n",
       "      <th>sum(Black_or_African_American)</th>\n",
       "      <th>...</th>\n",
       "      <th>sum(Administrative support)</th>\n",
       "      <th>sum(Craft workers)</th>\n",
       "      <th>sum(Executives)</th>\n",
       "      <th>sum(Managers)</th>\n",
       "      <th>sum(Professionals)</th>\n",
       "      <th>sum(Sales workers)</th>\n",
       "      <th>sum(Service workers)</th>\n",
       "      <th>sum(Technicians)</th>\n",
       "      <th>sum(laborers and helpers)</th>\n",
       "      <th>sum(operatives)</th>\n",
       "    </tr>\n",
       "  </thead>\n",
       "  <tbody>\n",
       "    <tr>\n",
       "      <th>0</th>\n",
       "      <td>NetApp</td>\n",
       "      <td>public</td>\n",
       "      <td>2016</td>\n",
       "      <td>11000000000</td>\n",
       "      <td>YES</td>\n",
       "      <td>4522</td>\n",
       "      <td>14379</td>\n",
       "      <td>67</td>\n",
       "      <td>5184</td>\n",
       "      <td>633</td>\n",
       "      <td>...</td>\n",
       "      <td>182</td>\n",
       "      <td>0</td>\n",
       "      <td>72</td>\n",
       "      <td>2006</td>\n",
       "      <td>7764</td>\n",
       "      <td>1302</td>\n",
       "      <td>0</td>\n",
       "      <td>36</td>\n",
       "      <td>0</td>\n",
       "      <td>0</td>\n",
       "    </tr>\n",
       "    <tr>\n",
       "      <th>1</th>\n",
       "      <td>Lyft</td>\n",
       "      <td>private</td>\n",
       "      <td>2016</td>\n",
       "      <td>8000000000</td>\n",
       "      <td>YES</td>\n",
       "      <td>1431</td>\n",
       "      <td>1970</td>\n",
       "      <td>18</td>\n",
       "      <td>657</td>\n",
       "      <td>206</td>\n",
       "      <td>...</td>\n",
       "      <td>836</td>\n",
       "      <td>0</td>\n",
       "      <td>30</td>\n",
       "      <td>518</td>\n",
       "      <td>1366</td>\n",
       "      <td>112</td>\n",
       "      <td>4</td>\n",
       "      <td>0</td>\n",
       "      <td>0</td>\n",
       "      <td>0</td>\n",
       "    </tr>\n",
       "    <tr>\n",
       "      <th>2</th>\n",
       "      <td>Salesforce</td>\n",
       "      <td>public</td>\n",
       "      <td>2016</td>\n",
       "      <td>58000000000</td>\n",
       "      <td>YES</td>\n",
       "      <td>13189</td>\n",
       "      <td>28212</td>\n",
       "      <td>53</td>\n",
       "      <td>10000</td>\n",
       "      <td>968</td>\n",
       "      <td>...</td>\n",
       "      <td>830</td>\n",
       "      <td>0</td>\n",
       "      <td>474</td>\n",
       "      <td>5204</td>\n",
       "      <td>16238</td>\n",
       "      <td>6686</td>\n",
       "      <td>0</td>\n",
       "      <td>0</td>\n",
       "      <td>0</td>\n",
       "      <td>0</td>\n",
       "    </tr>\n",
       "    <tr>\n",
       "      <th>3</th>\n",
       "      <td>Hewlett Packard Enterprise</td>\n",
       "      <td>public</td>\n",
       "      <td>2016</td>\n",
       "      <td>39000000000</td>\n",
       "      <td>YES</td>\n",
       "      <td>34390</td>\n",
       "      <td>69588</td>\n",
       "      <td>412</td>\n",
       "      <td>13268</td>\n",
       "      <td>7468</td>\n",
       "      <td>...</td>\n",
       "      <td>5840</td>\n",
       "      <td>0</td>\n",
       "      <td>1198</td>\n",
       "      <td>11880</td>\n",
       "      <td>68246</td>\n",
       "      <td>8958</td>\n",
       "      <td>0</td>\n",
       "      <td>7354</td>\n",
       "      <td>366</td>\n",
       "      <td>136</td>\n",
       "    </tr>\n",
       "    <tr>\n",
       "      <th>4</th>\n",
       "      <td>Sanmina-SCI</td>\n",
       "      <td>public</td>\n",
       "      <td>2016</td>\n",
       "      <td>3000000000</td>\n",
       "      <td>YES</td>\n",
       "      <td>6280</td>\n",
       "      <td>9745</td>\n",
       "      <td>58</td>\n",
       "      <td>4021</td>\n",
       "      <td>944</td>\n",
       "      <td>...</td>\n",
       "      <td>1362</td>\n",
       "      <td>322</td>\n",
       "      <td>244</td>\n",
       "      <td>1182</td>\n",
       "      <td>2264</td>\n",
       "      <td>178</td>\n",
       "      <td>114</td>\n",
       "      <td>1416</td>\n",
       "      <td>8</td>\n",
       "      <td>3320</td>\n",
       "    </tr>\n",
       "  </tbody>\n",
       "</table>\n",
       "<p>5 rows × 25 columns</p>\n",
       "</div>"
      ],
      "text/plain": [
       "                      company ownership  year   valuations eeo_1 status  \\\n",
       "0                      NetApp    public  2016  11000000000          YES   \n",
       "1                        Lyft   private  2016   8000000000          YES   \n",
       "2                  Salesforce    public  2016  58000000000          YES   \n",
       "3  Hewlett Packard Enterprise    public  2016  39000000000          YES   \n",
       "4                 Sanmina-SCI    public  2016   3000000000          YES   \n",
       "\n",
       "   sum(female)  sum(male)  sum(American_Indian_Alaskan_Native)  sum(Asian)  \\\n",
       "0         4522      14379                                   67        5184   \n",
       "1         1431       1970                                   18         657   \n",
       "2        13189      28212                                   53       10000   \n",
       "3        34390      69588                                  412       13268   \n",
       "4         6280       9745                                   58        4021   \n",
       "\n",
       "   sum(Black_or_African_American)  ...  sum(Administrative support)  \\\n",
       "0                             633  ...                          182   \n",
       "1                             206  ...                          836   \n",
       "2                             968  ...                          830   \n",
       "3                            7468  ...                         5840   \n",
       "4                             944  ...                         1362   \n",
       "\n",
       "   sum(Craft workers)  sum(Executives)  sum(Managers)  sum(Professionals)  \\\n",
       "0                   0               72           2006                7764   \n",
       "1                   0               30            518                1366   \n",
       "2                   0              474           5204               16238   \n",
       "3                   0             1198          11880               68246   \n",
       "4                 322              244           1182                2264   \n",
       "\n",
       "   sum(Sales workers)  sum(Service workers)  sum(Technicians)  \\\n",
       "0                1302                     0                36   \n",
       "1                 112                     4                 0   \n",
       "2                6686                     0                 0   \n",
       "3                8958                     0              7354   \n",
       "4                 178                   114              1416   \n",
       "\n",
       "   sum(laborers and helpers)  sum(operatives)  \n",
       "0                          0                0  \n",
       "1                          0                0  \n",
       "2                          0                0  \n",
       "3                        366              136  \n",
       "4                          8             3320  \n",
       "\n",
       "[5 rows x 25 columns]"
      ]
     },
     "execution_count": 3,
     "metadata": {},
     "output_type": "execute_result"
    }
   ],
   "source": [
    "#read csv\n",
    "diversity = pd.read_csv('ml_csv.csv')\n",
    "diversity.head()"
   ]
  },
  {
   "cell_type": "markdown",
   "metadata": {
    "slideshow": {
     "slide_type": "subslide"
    }
   },
   "source": [
    "## Data Pre-Processing"
   ]
  },
  {
   "cell_type": "code",
   "execution_count": 4,
   "metadata": {
    "nbgrader": {
     "grade": false,
     "grade_id": "cell-86a9e3212f200d21",
     "locked": false,
     "schema_version": 1,
     "solution": true
    },
    "slideshow": {
     "slide_type": "subslide"
    }
   },
   "outputs": [
    {
     "data": {
      "text/html": [
       "<div>\n",
       "<style scoped>\n",
       "    .dataframe tbody tr th:only-of-type {\n",
       "        vertical-align: middle;\n",
       "    }\n",
       "\n",
       "    .dataframe tbody tr th {\n",
       "        vertical-align: top;\n",
       "    }\n",
       "\n",
       "    .dataframe thead th {\n",
       "        text-align: right;\n",
       "    }\n",
       "</style>\n",
       "<table border=\"1\" class=\"dataframe\">\n",
       "  <thead>\n",
       "    <tr style=\"text-align: right;\">\n",
       "      <th></th>\n",
       "      <th>ownership</th>\n",
       "      <th>valuations</th>\n",
       "      <th>sum(female)</th>\n",
       "      <th>sum(male)</th>\n",
       "      <th>sum(American_Indian_Alaskan_Native)</th>\n",
       "      <th>sum(Asian)</th>\n",
       "      <th>sum(Black_or_African_American)</th>\n",
       "      <th>sum(Hispanic_or_Latino)</th>\n",
       "      <th>sum(Native_Hawaiian_or_Pacific_Islander)</th>\n",
       "      <th>sum(Overall_totals)</th>\n",
       "      <th>...</th>\n",
       "      <th>sum(Administrative support)</th>\n",
       "      <th>sum(Craft workers)</th>\n",
       "      <th>sum(Executives)</th>\n",
       "      <th>sum(Managers)</th>\n",
       "      <th>sum(Professionals)</th>\n",
       "      <th>sum(Sales workers)</th>\n",
       "      <th>sum(Service workers)</th>\n",
       "      <th>sum(Technicians)</th>\n",
       "      <th>sum(laborers and helpers)</th>\n",
       "      <th>sum(operatives)</th>\n",
       "    </tr>\n",
       "  </thead>\n",
       "  <tbody>\n",
       "    <tr>\n",
       "      <th>0</th>\n",
       "      <td>public</td>\n",
       "      <td>11000000000</td>\n",
       "      <td>4522</td>\n",
       "      <td>14379</td>\n",
       "      <td>67</td>\n",
       "      <td>5184</td>\n",
       "      <td>633</td>\n",
       "      <td>774</td>\n",
       "      <td>26</td>\n",
       "      <td>18901</td>\n",
       "      <td>...</td>\n",
       "      <td>182</td>\n",
       "      <td>0</td>\n",
       "      <td>72</td>\n",
       "      <td>2006</td>\n",
       "      <td>7764</td>\n",
       "      <td>1302</td>\n",
       "      <td>0</td>\n",
       "      <td>36</td>\n",
       "      <td>0</td>\n",
       "      <td>0</td>\n",
       "    </tr>\n",
       "    <tr>\n",
       "      <th>1</th>\n",
       "      <td>private</td>\n",
       "      <td>8000000000</td>\n",
       "      <td>1431</td>\n",
       "      <td>1970</td>\n",
       "      <td>18</td>\n",
       "      <td>657</td>\n",
       "      <td>206</td>\n",
       "      <td>241</td>\n",
       "      <td>9</td>\n",
       "      <td>3401</td>\n",
       "      <td>...</td>\n",
       "      <td>836</td>\n",
       "      <td>0</td>\n",
       "      <td>30</td>\n",
       "      <td>518</td>\n",
       "      <td>1366</td>\n",
       "      <td>112</td>\n",
       "      <td>4</td>\n",
       "      <td>0</td>\n",
       "      <td>0</td>\n",
       "      <td>0</td>\n",
       "    </tr>\n",
       "    <tr>\n",
       "      <th>2</th>\n",
       "      <td>public</td>\n",
       "      <td>58000000000</td>\n",
       "      <td>13189</td>\n",
       "      <td>28212</td>\n",
       "      <td>53</td>\n",
       "      <td>10000</td>\n",
       "      <td>968</td>\n",
       "      <td>1656</td>\n",
       "      <td>160</td>\n",
       "      <td>41401</td>\n",
       "      <td>...</td>\n",
       "      <td>830</td>\n",
       "      <td>0</td>\n",
       "      <td>474</td>\n",
       "      <td>5204</td>\n",
       "      <td>16238</td>\n",
       "      <td>6686</td>\n",
       "      <td>0</td>\n",
       "      <td>0</td>\n",
       "      <td>0</td>\n",
       "      <td>0</td>\n",
       "    </tr>\n",
       "    <tr>\n",
       "      <th>3</th>\n",
       "      <td>public</td>\n",
       "      <td>39000000000</td>\n",
       "      <td>34390</td>\n",
       "      <td>69588</td>\n",
       "      <td>412</td>\n",
       "      <td>13268</td>\n",
       "      <td>7468</td>\n",
       "      <td>5974</td>\n",
       "      <td>160</td>\n",
       "      <td>103978</td>\n",
       "      <td>...</td>\n",
       "      <td>5840</td>\n",
       "      <td>0</td>\n",
       "      <td>1198</td>\n",
       "      <td>11880</td>\n",
       "      <td>68246</td>\n",
       "      <td>8958</td>\n",
       "      <td>0</td>\n",
       "      <td>7354</td>\n",
       "      <td>366</td>\n",
       "      <td>136</td>\n",
       "    </tr>\n",
       "    <tr>\n",
       "      <th>4</th>\n",
       "      <td>public</td>\n",
       "      <td>3000000000</td>\n",
       "      <td>6280</td>\n",
       "      <td>9745</td>\n",
       "      <td>58</td>\n",
       "      <td>4021</td>\n",
       "      <td>944</td>\n",
       "      <td>1825</td>\n",
       "      <td>34</td>\n",
       "      <td>16025</td>\n",
       "      <td>...</td>\n",
       "      <td>1362</td>\n",
       "      <td>322</td>\n",
       "      <td>244</td>\n",
       "      <td>1182</td>\n",
       "      <td>2264</td>\n",
       "      <td>178</td>\n",
       "      <td>114</td>\n",
       "      <td>1416</td>\n",
       "      <td>8</td>\n",
       "      <td>3320</td>\n",
       "    </tr>\n",
       "  </tbody>\n",
       "</table>\n",
       "<p>5 rows × 22 columns</p>\n",
       "</div>"
      ],
      "text/plain": [
       "  ownership   valuations  sum(female)  sum(male)  \\\n",
       "0    public  11000000000         4522      14379   \n",
       "1   private   8000000000         1431       1970   \n",
       "2    public  58000000000        13189      28212   \n",
       "3    public  39000000000        34390      69588   \n",
       "4    public   3000000000         6280       9745   \n",
       "\n",
       "   sum(American_Indian_Alaskan_Native)  sum(Asian)  \\\n",
       "0                                   67        5184   \n",
       "1                                   18         657   \n",
       "2                                   53       10000   \n",
       "3                                  412       13268   \n",
       "4                                   58        4021   \n",
       "\n",
       "   sum(Black_or_African_American)  sum(Hispanic_or_Latino)  \\\n",
       "0                             633                      774   \n",
       "1                             206                      241   \n",
       "2                             968                     1656   \n",
       "3                            7468                     5974   \n",
       "4                             944                     1825   \n",
       "\n",
       "   sum(Native_Hawaiian_or_Pacific_Islander)  sum(Overall_totals)  ...  \\\n",
       "0                                        26                18901  ...   \n",
       "1                                         9                 3401  ...   \n",
       "2                                       160                41401  ...   \n",
       "3                                       160               103978  ...   \n",
       "4                                        34                16025  ...   \n",
       "\n",
       "   sum(Administrative support)  sum(Craft workers)  sum(Executives)  \\\n",
       "0                          182                   0               72   \n",
       "1                          836                   0               30   \n",
       "2                          830                   0              474   \n",
       "3                         5840                   0             1198   \n",
       "4                         1362                 322              244   \n",
       "\n",
       "   sum(Managers)  sum(Professionals)  sum(Sales workers)  \\\n",
       "0           2006                7764                1302   \n",
       "1            518                1366                 112   \n",
       "2           5204               16238                6686   \n",
       "3          11880               68246                8958   \n",
       "4           1182                2264                 178   \n",
       "\n",
       "   sum(Service workers)  sum(Technicians)  sum(laborers and helpers)  \\\n",
       "0                     0                36                          0   \n",
       "1                     4                 0                          0   \n",
       "2                     0                 0                          0   \n",
       "3                     0              7354                        366   \n",
       "4                   114              1416                          8   \n",
       "\n",
       "   sum(operatives)  \n",
       "0                0  \n",
       "1                0  \n",
       "2                0  \n",
       "3              136  \n",
       "4             3320  \n",
       "\n",
       "[5 rows x 22 columns]"
      ]
     },
     "execution_count": 4,
     "metadata": {},
     "output_type": "execute_result"
    }
   ],
   "source": [
    "#drop unimportant columns\n",
    "diversity_without_year=diversity.drop(\"year\",axis=1)\n",
    "diversity_without_eeo=diversity_without_year.drop(\"eeo_1 status\",axis=1)\n",
    "diversity_without_company=diversity_without_eeo.drop(\"company\",axis=1)\n",
    "diversity_without_company.head()"
   ]
  },
  {
   "cell_type": "code",
   "execution_count": 5,
   "metadata": {},
   "outputs": [
    {
     "name": "stdout",
     "output_type": "stream",
     "text": [
      "(25, 21) (25,)\n"
     ]
    }
   ],
   "source": [
    "#split data into X and y\n",
    "X = diversity_without_company.drop(\"ownership\", axis=1)\n",
    "y = diversity_without_company[\"ownership\"]\n",
    "print(X.shape, y.shape)"
   ]
  },
  {
   "cell_type": "code",
   "execution_count": 6,
   "metadata": {
    "nbgrader": {
     "grade": false,
     "grade_id": "cell-711a82d9b32c83ff",
     "locked": false,
     "schema_version": 1,
     "solution": true
    },
    "slideshow": {
     "slide_type": "fragment"
    }
   },
   "outputs": [],
   "source": [
    "from sklearn.model_selection import train_test_split\n",
    "from sklearn.preprocessing import LabelEncoder, MinMaxScaler\n",
    "from tensorflow.keras.utils import to_categorical"
   ]
  },
  {
   "cell_type": "code",
   "execution_count": 19,
   "metadata": {
    "nbgrader": {
     "grade": false,
     "grade_id": "cell-711a82d9b32c83ff",
     "locked": false,
     "schema_version": 1,
     "solution": true
    },
    "slideshow": {
     "slide_type": "fragment"
    }
   },
   "outputs": [
    {
     "name": "stdout",
     "output_type": "stream",
     "text": [
      "(18, 21) (18,)\n"
     ]
    }
   ],
   "source": [
    "X_train, X_test, y_train, y_test = train_test_split(\n",
    "    X, y, random_state=1)\n",
    "print(X_train.shape,y_train.shape)"
   ]
  },
  {
   "cell_type": "code",
   "execution_count": 20,
   "metadata": {
    "nbgrader": {
     "grade": false,
     "grade_id": "cell-711a82d9b32c83ff",
     "locked": false,
     "schema_version": 1,
     "solution": true
    },
    "slideshow": {
     "slide_type": "fragment"
    }
   },
   "outputs": [],
   "source": [
    "X_scaler = MinMaxScaler().fit(X_train)\n",
    "X_train_scaled = X_scaler.transform(X_train)\n",
    "X_test_scaled = X_scaler.transform(X_test)"
   ]
  },
  {
   "cell_type": "code",
   "execution_count": 21,
   "metadata": {
    "nbgrader": {
     "grade": false,
     "grade_id": "cell-711a82d9b32c83ff",
     "locked": false,
     "schema_version": 1,
     "solution": true
    },
    "slideshow": {
     "slide_type": "fragment"
    }
   },
   "outputs": [],
   "source": [
    "# Step 1: Label-encode data set\n",
    "label_encoder = LabelEncoder()\n",
    "label_encoder.fit(y_train)\n",
    "encoded_y_train = label_encoder.transform(y_train)\n",
    "encoded_y_test = label_encoder.transform(y_test)"
   ]
  },
  {
   "cell_type": "code",
   "execution_count": 22,
   "metadata": {
    "nbgrader": {
     "grade": false,
     "grade_id": "cell-711a82d9b32c83ff",
     "locked": false,
     "schema_version": 1,
     "solution": true
    },
    "slideshow": {
     "slide_type": "fragment"
    }
   },
   "outputs": [],
   "source": [
    "# Step 2: Convert encoded labels to one-hot-encoding\n",
    "y_train_categorical = to_categorical(encoded_y_train)\n",
    "y_test_categorical = to_categorical(encoded_y_test)"
   ]
  },
  {
   "cell_type": "markdown",
   "metadata": {},
   "source": [
    "# Create a Deep Learning Model"
   ]
  },
  {
   "cell_type": "code",
   "execution_count": 23,
   "metadata": {},
   "outputs": [],
   "source": [
    "from tensorflow.keras.models import Sequential\n",
    "from tensorflow.keras.layers import Dense"
   ]
  },
  {
   "cell_type": "code",
   "execution_count": 24,
   "metadata": {},
   "outputs": [],
   "source": [
    "# Create model and add layers\n",
    "model = Sequential()\n",
    "model.add(Dense(units=100, activation='relu', input_dim=21))\n",
    "model.add(Dense(units=100, activation='relu'))\n",
    "model.add(Dense(units=2, activation='softmax'))"
   ]
  },
  {
   "cell_type": "code",
   "execution_count": 25,
   "metadata": {},
   "outputs": [],
   "source": [
    "# Compile and fit the model\n",
    "model.compile(optimizer='adam',\n",
    "              loss='categorical_crossentropy',\n",
    "              metrics=['accuracy'])"
   ]
  },
  {
   "cell_type": "code",
   "execution_count": 26,
   "metadata": {},
   "outputs": [
    {
     "name": "stdout",
     "output_type": "stream",
     "text": [
      "Model: \"sequential_1\"\n",
      "_________________________________________________________________\n",
      "Layer (type)                 Output Shape              Param #   \n",
      "=================================================================\n",
      "dense_3 (Dense)              (None, 100)               2200      \n",
      "_________________________________________________________________\n",
      "dense_4 (Dense)              (None, 100)               10100     \n",
      "_________________________________________________________________\n",
      "dense_5 (Dense)              (None, 2)                 202       \n",
      "=================================================================\n",
      "Total params: 12,502\n",
      "Trainable params: 12,502\n",
      "Non-trainable params: 0\n",
      "_________________________________________________________________\n"
     ]
    }
   ],
   "source": [
    "model.summary()"
   ]
  },
  {
   "cell_type": "code",
   "execution_count": 27,
   "metadata": {},
   "outputs": [
    {
     "name": "stdout",
     "output_type": "stream",
     "text": [
      "Train on 18 samples\n",
      "Epoch 1/60\n",
      "18/18 - 1s - loss: 0.6282 - accuracy: 0.6667\n",
      "Epoch 2/60\n",
      "18/18 - 0s - loss: 0.6070 - accuracy: 0.6667\n",
      "Epoch 3/60\n",
      "18/18 - 0s - loss: 0.5882 - accuracy: 0.6667\n",
      "Epoch 4/60\n",
      "18/18 - 0s - loss: 0.5717 - accuracy: 0.6667\n",
      "Epoch 5/60\n",
      "18/18 - 0s - loss: 0.5569 - accuracy: 0.6667\n",
      "Epoch 6/60\n",
      "18/18 - 0s - loss: 0.5435 - accuracy: 0.6667\n",
      "Epoch 7/60\n",
      "18/18 - 0s - loss: 0.5314 - accuracy: 0.6667\n",
      "Epoch 8/60\n",
      "18/18 - 0s - loss: 0.5204 - accuracy: 0.6667\n",
      "Epoch 9/60\n",
      "18/18 - 0s - loss: 0.5105 - accuracy: 0.6667\n",
      "Epoch 10/60\n",
      "18/18 - 0s - loss: 0.5014 - accuracy: 0.6667\n",
      "Epoch 11/60\n",
      "18/18 - 0s - loss: 0.4932 - accuracy: 0.6667\n",
      "Epoch 12/60\n",
      "18/18 - 0s - loss: 0.4857 - accuracy: 0.6667\n",
      "Epoch 13/60\n",
      "18/18 - 0s - loss: 0.4788 - accuracy: 0.6667\n",
      "Epoch 14/60\n",
      "18/18 - 0s - loss: 0.4725 - accuracy: 0.6667\n",
      "Epoch 15/60\n",
      "18/18 - 0s - loss: 0.4666 - accuracy: 0.6667\n",
      "Epoch 16/60\n",
      "18/18 - 0s - loss: 0.4613 - accuracy: 0.6667\n",
      "Epoch 17/60\n",
      "18/18 - 0s - loss: 0.4562 - accuracy: 0.6667\n",
      "Epoch 18/60\n",
      "18/18 - 0s - loss: 0.4514 - accuracy: 0.6667\n",
      "Epoch 19/60\n",
      "18/18 - 0s - loss: 0.4468 - accuracy: 0.6667\n",
      "Epoch 20/60\n",
      "18/18 - 0s - loss: 0.4424 - accuracy: 0.6667\n",
      "Epoch 21/60\n",
      "18/18 - 0s - loss: 0.4381 - accuracy: 0.6667\n",
      "Epoch 22/60\n",
      "18/18 - 0s - loss: 0.4338 - accuracy: 0.6667\n",
      "Epoch 23/60\n",
      "18/18 - 0s - loss: 0.4296 - accuracy: 0.6667\n",
      "Epoch 24/60\n",
      "18/18 - 0s - loss: 0.4254 - accuracy: 0.6667\n",
      "Epoch 25/60\n",
      "18/18 - 0s - loss: 0.4213 - accuracy: 0.6667\n",
      "Epoch 26/60\n",
      "18/18 - 0s - loss: 0.4172 - accuracy: 0.6667\n",
      "Epoch 27/60\n",
      "18/18 - 0s - loss: 0.4133 - accuracy: 0.6667\n",
      "Epoch 28/60\n",
      "18/18 - 0s - loss: 0.4094 - accuracy: 0.7222\n",
      "Epoch 29/60\n",
      "18/18 - 0s - loss: 0.4057 - accuracy: 0.7222\n",
      "Epoch 30/60\n",
      "18/18 - 0s - loss: 0.4021 - accuracy: 0.7222\n",
      "Epoch 31/60\n",
      "18/18 - 0s - loss: 0.3986 - accuracy: 0.7778\n",
      "Epoch 32/60\n",
      "18/18 - 0s - loss: 0.3953 - accuracy: 0.7778\n",
      "Epoch 33/60\n",
      "18/18 - 0s - loss: 0.3921 - accuracy: 0.7778\n",
      "Epoch 34/60\n",
      "18/18 - 0s - loss: 0.3891 - accuracy: 0.7778\n",
      "Epoch 35/60\n",
      "18/18 - 0s - loss: 0.3862 - accuracy: 0.8333\n",
      "Epoch 36/60\n",
      "18/18 - 0s - loss: 0.3833 - accuracy: 0.8333\n",
      "Epoch 37/60\n",
      "18/18 - 0s - loss: 0.3804 - accuracy: 0.8889\n",
      "Epoch 38/60\n",
      "18/18 - 0s - loss: 0.3775 - accuracy: 0.8889\n",
      "Epoch 39/60\n",
      "18/18 - 0s - loss: 0.3747 - accuracy: 0.8889\n",
      "Epoch 40/60\n",
      "18/18 - 0s - loss: 0.3719 - accuracy: 0.8889\n",
      "Epoch 41/60\n",
      "18/18 - 0s - loss: 0.3691 - accuracy: 0.8889\n",
      "Epoch 42/60\n",
      "18/18 - 0s - loss: 0.3664 - accuracy: 0.8889\n",
      "Epoch 43/60\n",
      "18/18 - 0s - loss: 0.3636 - accuracy: 0.8889\n",
      "Epoch 44/60\n",
      "18/18 - 0s - loss: 0.3608 - accuracy: 0.8889\n",
      "Epoch 45/60\n",
      "18/18 - 0s - loss: 0.3581 - accuracy: 0.8889\n",
      "Epoch 46/60\n",
      "18/18 - 0s - loss: 0.3554 - accuracy: 0.8889\n",
      "Epoch 47/60\n",
      "18/18 - 0s - loss: 0.3526 - accuracy: 0.8889\n",
      "Epoch 48/60\n",
      "18/18 - 0s - loss: 0.3498 - accuracy: 0.8889\n",
      "Epoch 49/60\n",
      "18/18 - 0s - loss: 0.3470 - accuracy: 0.8889\n",
      "Epoch 50/60\n",
      "18/18 - 0s - loss: 0.3442 - accuracy: 0.8889\n",
      "Epoch 51/60\n",
      "18/18 - 0s - loss: 0.3413 - accuracy: 0.8889\n",
      "Epoch 52/60\n",
      "18/18 - 0s - loss: 0.3382 - accuracy: 0.8889\n",
      "Epoch 53/60\n",
      "18/18 - 0s - loss: 0.3352 - accuracy: 0.8889\n",
      "Epoch 54/60\n",
      "18/18 - 0s - loss: 0.3321 - accuracy: 0.8889\n",
      "Epoch 55/60\n",
      "18/18 - 0s - loss: 0.3289 - accuracy: 0.8889\n",
      "Epoch 56/60\n",
      "18/18 - 0s - loss: 0.3257 - accuracy: 0.8889\n",
      "Epoch 57/60\n",
      "18/18 - 0s - loss: 0.3224 - accuracy: 0.8889\n",
      "Epoch 58/60\n",
      "18/18 - 0s - loss: 0.3192 - accuracy: 0.9444\n",
      "Epoch 59/60\n",
      "18/18 - 0s - loss: 0.3158 - accuracy: 0.9444\n",
      "Epoch 60/60\n",
      "18/18 - 0s - loss: 0.3124 - accuracy: 0.9444\n"
     ]
    },
    {
     "data": {
      "text/plain": [
       "<tensorflow.python.keras.callbacks.History at 0x1523fb965c0>"
      ]
     },
     "execution_count": 27,
     "metadata": {},
     "output_type": "execute_result"
    }
   ],
   "source": [
    "model.fit(\n",
    "    X_train_scaled,\n",
    "    y_train_categorical,\n",
    "    epochs=60,\n",
    "    shuffle=True,\n",
    "    verbose=2\n",
    ")"
   ]
  },
  {
   "cell_type": "markdown",
   "metadata": {},
   "source": [
    "## Quantify our Trained Model"
   ]
  },
  {
   "cell_type": "code",
   "execution_count": 28,
   "metadata": {},
   "outputs": [
    {
     "name": "stdout",
     "output_type": "stream",
     "text": [
      "7/7 - 0s - loss: 0.2114 - accuracy: 0.8571\n",
      "Normal Neural Network - Loss: 0.21143092215061188, Accuracy: 0.8571428656578064\n"
     ]
    }
   ],
   "source": [
    "model_loss, model_accuracy = model.evaluate(\n",
    "    X_test_scaled, y_test_categorical, verbose=2)\n",
    "print(\n",
    "    f\"Normal Neural Network - Loss: {model_loss}, Accuracy: {model_accuracy}\")"
   ]
  },
  {
   "cell_type": "markdown",
   "metadata": {
    "slideshow": {
     "slide_type": "subslide"
    }
   },
   "source": [
    "## Make Predictions"
   ]
  },
  {
   "cell_type": "code",
   "execution_count": 29,
   "metadata": {
    "nbgrader": {
     "grade": false,
     "grade_id": "cell-f97eb3e97245187b",
     "locked": false,
     "schema_version": 1,
     "solution": true
    },
    "slideshow": {
     "slide_type": "fragment"
    }
   },
   "outputs": [],
   "source": [
    "encoded_predictions = model.predict_classes(X_test_scaled[:5])\n",
    "prediction_labels = label_encoder.inverse_transform(encoded_predictions)"
   ]
  },
  {
   "cell_type": "code",
   "execution_count": 30,
   "metadata": {},
   "outputs": [
    {
     "name": "stdout",
     "output_type": "stream",
     "text": [
      "Predicted classes: ['public' 'public' 'public' 'public' 'public']\n",
      "Actual Labels: ['public', 'public', 'public', 'public', 'public']\n"
     ]
    }
   ],
   "source": [
    "print(f\"Predicted classes: {prediction_labels}\")\n",
    "print(f\"Actual Labels: {list(y_test[:5])}\")"
   ]
  },
  {
   "cell_type": "code",
   "execution_count": null,
   "metadata": {},
   "outputs": [],
   "source": []
  },
  {
   "cell_type": "code",
   "execution_count": null,
   "metadata": {},
   "outputs": [],
   "source": []
  }
 ],
 "metadata": {
  "kernelspec": {
   "display_name": "Python [conda env:pythonadv] *",
   "language": "python",
   "name": "conda-env-pythonadv-py"
  },
  "language_info": {
   "codemirror_mode": {
    "name": "ipython",
    "version": 3
   },
   "file_extension": ".py",
   "mimetype": "text/x-python",
   "name": "python",
   "nbconvert_exporter": "python",
   "pygments_lexer": "ipython3",
   "version": "3.6.13"
  },
  "varInspector": {
   "cols": {
    "lenName": 16,
    "lenType": 16,
    "lenVar": 40
   },
   "kernels_config": {
    "python": {
     "delete_cmd_postfix": "",
     "delete_cmd_prefix": "del ",
     "library": "var_list.py",
     "varRefreshCmd": "print(var_dic_list())"
    },
    "r": {
     "delete_cmd_postfix": ") ",
     "delete_cmd_prefix": "rm(",
     "library": "var_list.r",
     "varRefreshCmd": "cat(var_dic_list()) "
    }
   },
   "types_to_exclude": [
    "module",
    "function",
    "builtin_function_or_method",
    "instance",
    "_Feature"
   ],
   "window_display": false
  }
 },
 "nbformat": 4,
 "nbformat_minor": 4
}
